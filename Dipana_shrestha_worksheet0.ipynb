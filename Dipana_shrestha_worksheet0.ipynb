{
  "nbformat": 4,
  "nbformat_minor": 0,
  "metadata": {
    "colab": {
      "provenance": []
    },
    "kernelspec": {
      "name": "python3",
      "display_name": "Python 3"
    },
    "language_info": {
      "name": "python"
    }
  },
  "cells": [
    {
      "cell_type": "code",
      "execution_count": 1,
      "metadata": {
        "colab": {
          "base_uri": "https://localhost:8080/"
        },
        "id": "brgDL4ECI9Hb",
        "outputId": "ee3a33cf-3fb4-4933-b437-c181d252eb6c"
      },
      "outputs": [
        {
          "output_type": "stream",
          "name": "stdout",
          "text": [
            "Cold temperatures: [8.2, 7.9, 9.0, 8.5, 7.7, 8.4, 9.5, 8.1, 7.6, 8.0, 7.8, 8.7, 9.2, 8.3, 8.9, 7.8]\n",
            "Mild temperatures: [14.1, 13.5, 13.0, 12.9, 13.3, 14.0, 13.4, 14.2, 12.8, 13.7, 13.6, 13.8, 13.9, 12.7, 13.1, 12.5]\n",
            "Comfortable temperatures: [17.4, 18.0, 17.8, 16.5, 17.2, 16.7, 18.3, 17.9, 17.0, 16.8, 17.5, 17.1, 18.1, 16.4, 18.2, 16.6]\n"
          ]
        }
      ],
      "source": [
        "# Task1\n",
        "temperatures = [8.2, 17.4, 14.1, 7.9, 18.0, 13.5, 9.0, 17.8, 13.0, 8.5,\n",
        "                16.5, 12.9, 7.7, 17.2, 13.3, 8.4, 16.7, 14.0, 9.5, 18.3,\n",
        "                13.4, 8.1, 17.9, 14.2, 7.6, 17.0, 12.8, 8.0, 16.8, 13.7,\n",
        "                7.8, 17.5, 13.6, 8.7, 17.1, 13.8, 9.2, 18.1, 13.9, 8.3,\n",
        "                16.4, 12.7, 8.9, 18.2, 13.1, 7.8, 16.6, 12.5]\n",
        "\n",
        "# i have created empty list\n",
        "cold = []\n",
        "mild = []\n",
        "comfortable = []\n",
        "\n",
        "\n",
        "for temp in temperatures:\n",
        "    if temp < 10:\n",
        "        cold.append(temp)  # Add to 'cold' if below 10°C\n",
        "    elif 10 <= temp < 15:\n",
        "        mild.append(temp)  # Add to 'mild' if between 10°C and 15°C\n",
        "    else:\n",
        "        comfortable.append(temp)  # Add to 'comfortable' if between 15°C and 20°C\n",
        "\n",
        "# Step 3: Print the lists to verify classifications\n",
        "print(\"Cold temperatures:\", cold)\n",
        "print(\"Mild temperatures:\", mild)\n",
        "print(\"Comfortable temperatures:\", comfortable)\n"
      ]
    },
    {
      "cell_type": "code",
      "source": [
        "# Task 2. Based on Data - Answer all the Questions:\n",
        "# 1. How many times was it mild?\n",
        "# (a) Hint: Count the number of items in the mild list and print the result.\n",
        "mild_count = len(mild)\n",
        "print(f\"(a) It was mild {mild_count} times.\")\n",
        "\n",
        "# 2. How many times was it comfortable?\n",
        "comfortable_count = len(comfortable)\n",
        "print(f\"It was comfortable {comfortable_count} times.\")\n",
        "\n",
        "# 3. How many times was it cold?\n",
        "cold_count = len(cold)\n",
        "print(f\"It was cold {cold_count} times.\")"
      ],
      "metadata": {
        "colab": {
          "base_uri": "https://localhost:8080/"
        },
        "id": "BRDT8zRcJKNg",
        "outputId": "ec4ba2a9-564b-45cb-838f-d87ac0799977"
      },
      "execution_count": 2,
      "outputs": [
        {
          "output_type": "stream",
          "name": "stdout",
          "text": [
            "(a) It was mild 16 times.\n",
            "It was comfortable 16 times.\n",
            "It was cold 16 times.\n"
          ]
        }
      ]
    },
    {
      "cell_type": "code",
      "source": [
        "# 1. Iterate over the temperatures list and apply the formula to convert each temperature.\n",
        "# 2. Store the results in the new list.\n",
        "temperatures_fahrenheit = []\n",
        "\n",
        "for temp in temperatures:\n",
        "    fahrenheit = (temp * 9/5) + 32\n",
        "    temperatures_fahrenheit.append(fahrenheit)\n",
        "\n",
        "# 3. Print the converted Fahrenheit values.\n",
        "print(\"Temperatures in Fahrenheit:\", temperatures_fahrenheit)"
      ],
      "metadata": {
        "colab": {
          "base_uri": "https://localhost:8080/"
        },
        "id": "jlvf-YKrJgT_",
        "outputId": "3b3b7f2f-0cda-479a-f580-7f3006b3ff20"
      },
      "execution_count": 3,
      "outputs": [
        {
          "output_type": "stream",
          "name": "stdout",
          "text": [
            "Temperatures in Fahrenheit: [46.76, 63.32, 57.379999999999995, 46.22, 64.4, 56.3, 48.2, 64.04, 55.4, 47.3, 61.7, 55.22, 45.86, 62.959999999999994, 55.94, 47.120000000000005, 62.059999999999995, 57.2, 49.1, 64.94, 56.120000000000005, 46.58, 64.22, 57.56, 45.68, 62.6, 55.04, 46.4, 62.24, 56.66, 46.04, 63.5, 56.48, 47.66, 62.78, 56.84, 48.56, 64.58, 57.02, 46.94, 61.519999999999996, 54.86, 48.02, 64.75999999999999, 55.58, 46.04, 61.88, 54.5]\n"
          ]
        }
      ]
    },
    {
      "cell_type": "code",
      "source": [
        "import matplotlib.pyplot as plt\n",
        "\n",
        "temperatures = [8.2, 17.4, 14.1, 7.9, 18.0, 13.5, 9.0, 17.8, 13.0, 8.5,\n",
        "                16.5, 12.9, 7.7, 17.2, 13.3, 8.4, 16.7, 14.0, 9.5, 18.3,\n",
        "                13.4, 8.1, 17.9, 14.2, 7.6, 17.0, 12.8, 8.0, 16.8, 13.7,\n",
        "                7.8, 17.5, 13.6, 8.7, 17.1, 13.8, 9.2, 18.1, 13.9, 8.3,\n",
        "                16.4, 12.7, 8.9, 18.2, 13.1, 7.8, 16.6, 12.5]\n",
        "\n",
        "#  empty lists for time-of-day classifications is created\n",
        "night = []\n",
        "evening = []\n",
        "day = []\n",
        "\n",
        "#  Assigning temperatures to time-of-day lists based on position\n",
        "for i, temp in enumerate(temperatures):\n",
        "    if i % 24 < 8:  # Night (00:00 - 08:00)\n",
        "        night.append(temp)\n",
        "    elif i % 24 < 16:  # Evening (08:00 - 16:00)\n",
        "        evening.append(temp)\n",
        "    else:  # Day (16:00 - 24:00)\n",
        "        day.append(temp)\n",
        "\n",
        "average_day_temp = sum(day) / len(day) if day else 0\n",
        "\n",
        "# Print results\n",
        "print(f\"Night temperatures: {night}\")\n",
        "print(f\"Evening temperatures: {evening}\")\n",
        "print(f\"Day temperatures: {day}\")\n",
        "print(f\"Average day-time temperature: {average_day_temp:.2f}°C\")\n",
        "\n",
        "# Step 4 (Optional): Plot \"day - temperature\"\n",
        "plt.plot(range(len(day)), day, marker='*', linestyle='-', color='blue', label='Day Temp')\n",
        "plt.title(\"Day - Temperature\")\n",
        "plt.xlabel(\"Day Index\")\n",
        "plt.ylabel(\"Temperature (°C)\")\n",
        "plt.legend()\n",
        "plt.grid()\n",
        "plt.show()\n"
      ],
      "metadata": {
        "colab": {
          "base_uri": "https://localhost:8080/",
          "height": 541
        },
        "id": "9KWcE9j4Jw2W",
        "outputId": "09fb13f6-758a-4b83-ae01-166bd87e3954"
      },
      "execution_count": 5,
      "outputs": [
        {
          "output_type": "stream",
          "name": "stdout",
          "text": [
            "Night temperatures: [8.2, 17.4, 14.1, 7.9, 18.0, 13.5, 9.0, 17.8, 7.6, 17.0, 12.8, 8.0, 16.8, 13.7, 7.8, 17.5]\n",
            "Evening temperatures: [13.0, 8.5, 16.5, 12.9, 7.7, 17.2, 13.3, 8.4, 13.6, 8.7, 17.1, 13.8, 9.2, 18.1, 13.9, 8.3]\n",
            "Day temperatures: [16.7, 14.0, 9.5, 18.3, 13.4, 8.1, 17.9, 14.2, 16.4, 12.7, 8.9, 18.2, 13.1, 7.8, 16.6, 12.5]\n",
            "Average day-time temperature: 13.64°C\n"
          ]
        },
        {
          "output_type": "display_data",
          "data": {
            "text/plain": [
              "<Figure size 640x480 with 1 Axes>"
            ],
            "image/png": "[encoded data removed]"
          },
          "metadata": {}
        }
      ]
    },
    {
      "cell_type": "code",
      "source": [
        "# 8.1.1: Recursion\n",
        "def sum_nested_list(nested_list):\n",
        "    \"\"\"\n",
        "    Calculate the sum of all numbers in a nested list.\n",
        "    This function takes a list that may contain integers and other nested lists.\n",
        "    It recursively traverses the list and sums all the integers, no matter how deeply\n",
        "    nested they are.\n",
        "\n",
        "    Args:\n",
        "        nested_list (list): A list that may contain integers or other lists of integers.\n",
        "\n",
        "    Returns:\n",
        "        int: The total sum of all integers in the nested list, including those in sublists.\n",
        "\n",
        "    Example:\n",
        "        >>> sum_nested_list([1, [2, [3, 4], 5], 6, [7, 8]])\n",
        "        36\n",
        "        >>> sum_nested_list([1, [2, 3], [4, [5]]])\n",
        "        15\n",
        "    \"\"\"\n",
        "    total = 0  # Initialize the sum\n",
        "    for element in nested_list:\n",
        "        if isinstance(element, list):  # Check if the element is a list\n",
        "            total += sum_nested_list(element)  # Recursively sum the nested list\n",
        "        else:\n",
        "            total += element  # Add the number to the total\n",
        "    return total\n",
        "\n",
        "\n",
        "nested_list_1 = [1, [2, [3, 4], 5], 6, [7, 8]]\n",
        "nested_list_2 = [1, [2, 3], [4, [5]]]\n",
        "\n",
        "print(\"Test Case 1:\")\n",
        "print(f\"Input: {nested_list_1}\")\n",
        "print(f\"Output: {sum_nested_list(nested_list_1)}\")  # Expected: 36\n",
        "\n",
        "print(\"\\nTest Case 2:\")\n",
        "print(f\"Input: {nested_list_2}\")\n",
        "print(f\"Output: {sum_nested_list(nested_list_2)}\")  # Expected: 15\n"
      ],
      "metadata": {
        "colab": {
          "base_uri": "https://localhost:8080/"
        },
        "id": "Vo2yUXLwJ6uF",
        "outputId": "e43b6bc7-f19d-41da-c4f1-f38055a3e31e"
      },
      "execution_count": 6,
      "outputs": [
        {
          "output_type": "stream",
          "name": "stdout",
          "text": [
            "Test Case 1:\n",
            "Input: [1, [2, [3, 4], 5], 6, [7, 8]]\n",
            "Output: 36\n",
            "\n",
            "Test Case 2:\n",
            "Input: [1, [2, 3], [4, [5]]]\n",
            "Output: 15\n"
          ]
        }
      ]
    },
    {
      "cell_type": "code",
      "source": [
        "def generate_permutations(s):\n",
        "    if len(s) == 1:\n",
        "        return [s]\n",
        "\n",
        "    permutations = set()\n",
        "\n",
        "    for i in range(len(s)):\n",
        "        char = s[i]\n",
        "\n",
        "        # remaining characters after removing the current character\n",
        "        remaining = s[:i] + s[i+1:]\n",
        "\n",
        "        # permutation of the remaining characters\n",
        "        for perm in generate_permutations(remaining):\n",
        "            permutations.add(char + perm)\n",
        "\n",
        "    return list(permutations)\n",
        "\n",
        "\n",
        "print(\"Permutations of 'abc':\", generate_permutations(\"abc\"))\n",
        "print(\"Permutations of 'aab':\", generate_permutations(\"aab\"))"
      ],
      "metadata": {
        "colab": {
          "base_uri": "https://localhost:8080/"
        },
        "id": "RqbCG9WjKUwf",
        "outputId": "4420985a-5888-445e-a722-5a71449a4817"
      },
      "execution_count": 7,
      "outputs": [
        {
          "output_type": "stream",
          "name": "stdout",
          "text": [
            "Permutations of 'abc': ['cba', 'cab', 'acb', 'abc', 'bca', 'bac']\n",
            "Permutations of 'aab': ['aba', 'aab', 'baa']\n"
          ]
        }
      ]
    },
    {
      "cell_type": "code",
      "source": [
        "\n",
        "directory_structure = {\n",
        "    \"file1.txt\": 200,\n",
        "    \"file2.txt\": 300,\n",
        "    \"subdir1\": {\n",
        "        \"file3.txt\": 400,\n",
        "        \"file4.txt\": 100\n",
        "    },\n",
        "    \"subdir2\": {\n",
        "        \"subsubdir1\": {\n",
        "            \"file5.txt\": 250\n",
        "        },\n",
        "        \"file6.txt\": 150\n",
        "    }\n",
        "}\n",
        "\n",
        "\n",
        "def calculate_directory_size(directory):\n",
        "    total_size = 0\n",
        "\n",
        "    for key, value in directory.items():\n",
        "        if isinstance(value, dict):\n",
        "            total_size += calculate_directory_size(value)\n",
        "        else:\n",
        "            total_size += value\n",
        "\n",
        "    return total_size\n",
        "\n",
        "\n",
        "total_size = calculate_directory_size(directory_structure)\n",
        "print(f\"Total size of the directory: {total_size} KB\")"
      ],
      "metadata": {
        "colab": {
          "base_uri": "https://localhost:8080/"
        },
        "id": "hizRwQCoKbxV",
        "outputId": "d4410a1c-ff3c-4118-dd73-d588744c88d2"
      },
      "execution_count": 8,
      "outputs": [
        {
          "output_type": "stream",
          "name": "stdout",
          "text": [
            "Total size of the directory: 1400 KB\n"
          ]
        }
      ]
    },
    {
      "cell_type": "code",
      "source": [
        "# 8.2.2 Exercises\n",
        "\n",
        "# Task 1 - Coin Change Problem\n",
        "\n",
        "def min_coins(coins, amount):\n",
        "\n",
        "\n",
        "    dp = [float('inf')] * (amount + 1)\n",
        "    dp[0] = 0\n",
        "\n",
        "    for coin in coins:\n",
        "        for i in range(coin, amount + 1):\n",
        "            dp[i] = min(dp[i], dp[i - coin] + 1)\n",
        "\n",
        "    return dp[amount] if dp[amount] != float('inf') else -1\n",
        "\n",
        "# Testing\n",
        "coins = [1, 2, 5]\n",
        "amount = 11\n",
        "result = min_coins(coins, amount)\n",
        "print(f\"Minimum coins required is: {result}\")  # Output should be 3"
      ],
      "metadata": {
        "colab": {
          "base_uri": "https://localhost:8080/"
        },
        "id": "ktqvRWYZKmZX",
        "outputId": "94b8b34d-af94-41d5-8ce6-4abc112da538"
      },
      "execution_count": 9,
      "outputs": [
        {
          "output_type": "stream",
          "name": "stdout",
          "text": [
            "Minimum coins required is: 3\n"
          ]
        }
      ]
    },
    {
      "cell_type": "code",
      "source": [
        "# Task 2\n",
        "\n",
        "def longest_common_subsequence(s1, s2):\n",
        "    m, n = len(s1), len(s2)\n",
        "    dp = [[\"\"] * (n + 1) for _ in range(m + 1)]\n",
        "\n",
        "    for i in range(1, m + 1):\n",
        "        for j in range(1, n + 1):\n",
        "            if s1[i - 1] == s2[j - 1]:\n",
        "                dp[i][j] = dp[i - 1][j - 1] + s1[i - 1]\n",
        "            else:\n",
        "                dp[i][j] = dp[i - 1][j] if len(dp[i - 1][j]) > len(dp[i][j - 1]) else dp[i][j - 1]\n",
        "\n",
        "    lcs_string = dp[m][n]\n",
        "    return len(lcs_string), lcs_string\n",
        "\n",
        "\n",
        "\n",
        "s1 = \"abcde\"\n",
        "s2 = \"ace\"\n",
        "lcs_length, lcs_string = longest_common_subsequence(s1, s2)\n",
        "print(f\"LCS length is {lcs_length}, and the LCS is '{lcs_string}'\")"
      ],
      "metadata": {
        "colab": {
          "base_uri": "https://localhost:8080/"
        },
        "id": "Kpounu_7KxiM",
        "outputId": "31be28d4-208b-4b95-a9a4-42a35763e857"
      },
      "execution_count": 10,
      "outputs": [
        {
          "output_type": "stream",
          "name": "stdout",
          "text": [
            "LCS length is 3, and the LCS is 'ace'\n"
          ]
        }
      ]
    },
    {
      "cell_type": "code",
      "source": [
        "def knapsack(weights, values, capacity):\n",
        "    n = len(weights)\n",
        "    dp = [[0] * (capacity + 1) for _ in range(n + 1)]\n",
        "    for i in range(1, n + 1):\n",
        "        for w in range(1, capacity + 1):\n",
        "            if weights[i - 1] <= w:\n",
        "                dp[i][w] = max(dp[i - 1][w], values[i - 1] + dp[i - 1][w - weights[i - 1]])\n",
        "            else:\n",
        "                dp[i][w] = dp[i - 1][w]\n",
        "\n",
        "    return dp[n][capacity]\n",
        "weights = [1, 3, 4, 5]\n",
        "values = [1, 4, 5, 7]\n",
        "capacity = 7\n",
        "max_value = knapsack(weights, values, capacity)\n",
        "print(f\"Maximum value for the given capacity is {max_value}\")\n"
      ],
      "metadata": {
        "colab": {
          "base_uri": "https://localhost:8080/"
        },
        "id": "4pGZRCDPLLM8",
        "outputId": "33626487-9f80-4c7c-d8cc-80efe339c635"
      },
      "execution_count": 11,
      "outputs": [
        {
          "output_type": "stream",
          "name": "stdout",
          "text": [
            "Maximum value for the given capacity is 9\n"
          ]
        }
      ]
    }
  ]
}