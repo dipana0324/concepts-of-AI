{
  "cells": [
    {
      "cell_type": "markdown",
      "metadata": {
        "id": "yIsWRS64_zQ2"
      },
      "source": [
        "1. Initialize an empty array with size 2X2."
      ]
    },
    {
      "cell_type": "code",
      "execution_count": null,
      "metadata": {
        "colab": {
          "base_uri": "https://localhost:8080/"
        },
        "id": "TYIBag6v6dhM",
        "outputId": "8320efab-f8f7-496f-dd9e-bac3637284d8"
      },
      "outputs": [
        {
          "name": "stdout",
          "output_type": "stream",
          "text": [
            "[[None, None], [None, None]]\n"
          ]
        }
      ],
      "source": [
        "array = [[None, None], [None, None]]\n",
        "print(array)\n"
      ]
    },
    {
      "cell_type": "markdown",
      "metadata": {
        "id": "zUksa8cB7K4O"
      },
      "source": [
        "2. Initialize an all one array with size 4X2."
      ]
    },
    {
      "cell_type": "code",
      "execution_count": null,
      "metadata": {
        "colab": {
          "base_uri": "https://localhost:8080/"
        },
        "id": "cLmFWU107WSn",
        "outputId": "f18c0c62-8720-420d-f73e-248cce6e3fb9"
      },
      "outputs": [
        {
          "name": "stdout",
          "output_type": "stream",
          "text": [
            "[[1, 1], [1, 1], [1, 1], [1, 1]]\n"
          ]
        }
      ],
      "source": [
        "array = [[1, 1] for _ in range(4)]\n",
        "print(array)\n"
      ]
    },
    {
      "cell_type": "markdown",
      "metadata": {
        "id": "FxQk9UFu7d63"
      },
      "source": [
        "3. Return a new array of given shape and type, filled with fill value.{Hint: np.full}"
      ]
    },
    {
      "cell_type": "code",
      "execution_count": null,
      "metadata": {
        "colab": {
          "base_uri": "https://localhost:8080/"
        },
        "id": "sIIUhp_t7hib",
        "outputId": "b6b8ae28-f793-47cc-bf42-5871437150ca"
      },
      "outputs": [
        {
          "name": "stdout",
          "output_type": "stream",
          "text": [
            "[[7 7]\n",
            " [7 7]\n",
            " [7 7]\n",
            " [7 7]]\n"
          ]
        }
      ],
      "source": [
        "import numpy as np\n",
        "\n",
        "\n",
        "shape = (4, 2)\n",
        "fill_value = 7\n",
        "dtype = int\n",
        "\n",
        "array = np.full(shape, fill_value, dtype=dtype)\n",
        "\n",
        "print(array)\n"
      ]
    },
    {
      "cell_type": "markdown",
      "metadata": {
        "id": "U49cRBnD70-U"
      },
      "source": [
        "4. Return a new array of zeros with same shape and type as a given array.{Hint: np.zeros like}"
      ]
    },
    {
      "cell_type": "code",
      "execution_count": null,
      "metadata": {
        "colab": {
          "base_uri": "https://localhost:8080/"
        },
        "id": "vXJQ8Xsb74tS",
        "outputId": "2ca6498d-7762-4892-a6bb-370841563646"
      },
      "outputs": [
        {
          "name": "stdout",
          "output_type": "stream",
          "text": [
            "[[0 0]\n",
            " [0 0]]\n"
          ]
        }
      ],
      "source": [
        "import numpy as np\n",
        "\n",
        "# Example array\n",
        "array = np.array([[1, 2], [3, 4]])\n",
        "\n",
        "# Create a new array of zeros with the same shape and type\n",
        "zero_array = np.zeros_like(array)\n",
        "\n",
        "print(zero_array)\n"
      ]
    },
    {
      "cell_type": "code",
      "execution_count": null,
      "metadata": {
        "colab": {
          "base_uri": "https://localhost:8080/"
        },
        "id": "ABk2BRfB8C9q",
        "outputId": "62071e79-346c-4922-d15d-b8e2e57c3f01"
      },
      "outputs": [
        {
          "name": "stdout",
          "output_type": "stream",
          "text": [
            "[[1 1]\n",
            " [1 1]]\n"
          ]
        }
      ],
      "source": [
        "#question_5\n",
        "import numpy as np\n",
        "\n",
        "# Example array\n",
        "array = np.array([[1, 2], [3, 4]])\n",
        "\n",
        "# Create a new array of ones with the same shape and type\n",
        "ones_array = np.ones_like(array)\n",
        "\n",
        "print(ones_array)\n"
      ]
    },
    {
      "cell_type": "code",
      "execution_count": null,
      "metadata": {
        "colab": {
          "base_uri": "https://localhost:8080/"
        },
        "id": "VbCJ6W7G8PgV",
        "outputId": "d5424e3c-0d9b-40f2-9366-1205730cf18f"
      },
      "outputs": [
        {
          "name": "stdout",
          "output_type": "stream",
          "text": [
            "[1 2 3 4]\n"
          ]
        }
      ],
      "source": [
        "#question_6\n",
        "import numpy as np\n",
        "\n",
        "# Existing list\n",
        "new_list = [1, 2, 3, 4]\n",
        "\n",
        "# Convert to a numpy array\n",
        "array = np.array(new_list)\n",
        "\n",
        "print(array)\n",
        "\n"
      ]
    },
    {
      "cell_type": "markdown",
      "metadata": {
        "id": "SBIbjjKh8uNh"
      },
      "source": [
        "problem 2"
      ]
    },
    {
      "cell_type": "code",
      "execution_count": null,
      "metadata": {
        "colab": {
          "base_uri": "https://localhost:8080/"
        },
        "id": "xRn5hkcy8rwk",
        "outputId": "ca9a40c0-1f6e-4323-dd91-e0514bba98d9"
      },
      "outputs": [
        {
          "name": "stdout",
          "output_type": "stream",
          "text": [
            "[10 11 12 13 14 15 16 17 18 19 20 21 22 23 24 25 26 27 28 29 30 31 32 33\n",
            " 34 35 36 37 38 39 40 41 42 43 44 45 46 47 48 49]\n"
          ]
        }
      ],
      "source": [
        "#question_1\n",
        "import numpy as np\n",
        "\n",
        "# Create an array with values from 10 to 49\n",
        "array = np.arange(10, 50)\n",
        "\n",
        "print(array)\n"
      ]
    },
    {
      "cell_type": "code",
      "execution_count": null,
      "metadata": {
        "colab": {
          "base_uri": "https://localhost:8080/"
        },
        "id": "jbBey6Lg9LUY",
        "outputId": "5dec2e6b-11e9-470c-826e-c49c56d23089"
      },
      "outputs": [
        {
          "name": "stdout",
          "output_type": "stream",
          "text": [
            "[[0 1 2]\n",
            " [3 4 5]\n",
            " [6 7 8]]\n"
          ]
        }
      ],
      "source": [
        "#question_2\n",
        "import numpy as np\n",
        "\n",
        "# Create an array with values from 0 to 8\n",
        "array = np.arange(9)\n",
        "\n",
        "# Reshape it into a 3x3 matrix\n",
        "matrix = array.reshape(3, 3)\n",
        "\n",
        "print(matrix)\n"
      ]
    },
    {
      "cell_type": "code",
      "execution_count": null,
      "metadata": {
        "colab": {
          "base_uri": "https://localhost:8080/"
        },
        "id": "jwbgExOy9e_F",
        "outputId": "71438d72-9f01-448e-96df-f8f2f3ee67d1"
      },
      "outputs": [
        {
          "name": "stdout",
          "output_type": "stream",
          "text": [
            "[[1. 0. 0.]\n",
            " [0. 1. 0.]\n",
            " [0. 0. 1.]]\n"
          ]
        }
      ],
      "source": [
        "#question_3\n",
        "import numpy as np\n",
        "\n",
        "# Create a 3x3 identity matrix\n",
        "identity_matrix = np.eye(3)\n",
        "\n",
        "print(identity_matrix)\n",
        "\n",
        "\n"
      ]
    },
    {
      "cell_type": "code",
      "execution_count": null,
      "metadata": {
        "colab": {
          "base_uri": "https://localhost:8080/"
        },
        "id": "l8zjBhHW9sxu",
        "outputId": "9b926713-8245-4426-ffc3-985007482738"
      },
      "outputs": [
        {
          "name": "stdout",
          "output_type": "stream",
          "text": [
            "Random Array: [0.47078129 0.97793324 0.80564616 0.87190844 0.29500989 0.53977138\n",
            " 0.72325435 0.59981117 0.02876195 0.18566848 0.79378623 0.68091326\n",
            " 0.63012479 0.02084351 0.95446227 0.10050364 0.97227639 0.01867309\n",
            " 0.00557943 0.8312787  0.97288823 0.17666076 0.26292666 0.3850976\n",
            " 0.70434519 0.66620239 0.7384883  0.31613394 0.04246593 0.91244038]\n",
            "Mean of the array: 0.5228212344689569\n"
          ]
        }
      ],
      "source": [
        "#question_4\n",
        "import numpy as np\n",
        "\n",
        "# Create a random array of size 30 with values between 0 and 1\n",
        "random_array = np.random.random(30)\n",
        "\n",
        "# Calculate the mean of the array\n",
        "mean_value = random_array.mean()\n",
        "\n",
        "print(\"Random Array:\", random_array)\n",
        "print(\"Mean of the array:\", mean_value)\n",
        "\n"
      ]
    },
    {
      "cell_type": "code",
      "execution_count": null,
      "metadata": {
        "colab": {
          "base_uri": "https://localhost:8080/"
        },
        "id": "-bojLinA991I",
        "outputId": "2a3c37f5-ff51-4acf-bbbb-76e0f7eca5fb"
      },
      "outputs": [
        {
          "name": "stdout",
          "output_type": "stream",
          "text": [
            "Random 10x10 Array:\n",
            " [[0.18139782 0.8402575  0.91832002 0.42445225 0.98185909 0.69530417\n",
            "  0.19431924 0.82267815 0.80458715 0.90031419]\n",
            " [0.15420914 0.6874574  0.52075359 0.5769144  0.34271623 0.8214769\n",
            "  0.30177334 0.45907431 0.09233515 0.45628006]\n",
            " [0.47990301 0.33498992 0.58053595 0.52711979 0.32482263 0.15651784\n",
            "  0.53646598 0.53450004 0.48005642 0.11649287]\n",
            " [0.31509001 0.55228497 0.68959395 0.31331665 0.87576854 0.75945509\n",
            "  0.52313461 0.36508225 0.38634368 0.06420848]\n",
            " [0.17611867 0.87000281 0.64566213 0.01281692 0.45833323 0.32703555\n",
            "  0.98313824 0.23202145 0.37748663 0.23386393]\n",
            " [0.85159374 0.17221038 0.41749765 0.52189143 0.71889232 0.62818505\n",
            "  0.21822219 0.52276886 0.23691764 0.80435694]\n",
            " [0.36490591 0.65219483 0.99523104 0.18860701 0.47283385 0.11716605\n",
            "  0.89291217 0.60614524 0.58507213 0.2354745 ]\n",
            " [0.88629505 0.69644403 0.68888982 0.42894543 0.39109914 0.67736274\n",
            "  0.64120443 0.06385103 0.56384851 0.15581551]\n",
            " [0.06862947 0.90899091 0.92373002 0.13560061 0.12902422 0.8544788\n",
            "  0.12173839 0.70849921 0.02759647 0.08320751]\n",
            " [0.68799934 0.29869947 0.04946    0.76721346 0.99352012 0.47269848\n",
            "  0.75562212 0.55317506 0.53888229 0.25856525]]\n",
            "Minimum value: 0.012816920166974777\n",
            "Maximum value: 0.9952310365940906\n"
          ]
        }
      ],
      "source": [
        "#question_5\n",
        "import numpy as np\n",
        "\n",
        "# Create a 10x10 array with random values between 0 and 1\n",
        "random_array = np.random.random((10, 10))\n",
        "\n",
        "# Find the minimum and maximum values in the array\n",
        "min_value = random_array.min()\n",
        "max_value = random_array.max()\n",
        "\n",
        "print(\"Random 10x10 Array:\\n\", random_array)\n",
        "print(\"Minimum value:\", min_value)\n",
        "print(\"Maximum value:\", max_value)\n",
        "\n"
      ]
    },
    {
      "cell_type": "code",
      "execution_count": null,
      "metadata": {
        "colab": {
          "base_uri": "https://localhost:8080/"
        },
        "id": "oF0yweEp-dok",
        "outputId": "7c7940c4-2396-4431-f47c-c586003cfadc"
      },
      "outputs": [
        {
          "name": "stdout",
          "output_type": "stream",
          "text": [
            "[0. 0. 0. 0. 1. 0. 0. 0. 0. 0.]\n"
          ]
        }
      ],
      "source": [
        "#Number_6\n",
        "import numpy as np\n",
        "zero_array = np.zeros(10)\n",
        "zero_array[4] = 1\n",
        "print(zero_array)\n"
      ]
    },
    {
      "cell_type": "code",
      "execution_count": null,
      "metadata": {
        "colab": {
          "base_uri": "https://localhost:8080/"
        },
        "id": "OxSOE01T-tA-",
        "outputId": "08339d49-0c4a-4c82-a335-1c019e0b2957"
      },
      "outputs": [
        {
          "name": "stdout",
          "output_type": "stream",
          "text": [
            "[0, 4, 0, 0, 2, 1]\n"
          ]
        }
      ],
      "source": [
        "#number_7\n",
        "arr = [1, 2, 0, 0, 4, 0]\n",
        "\n",
        "# Reverse the array using slicing\n",
        "reversed_arr = arr[::-1]\n",
        "\n",
        "print(reversed_arr)\n"
      ]
    },
    {
      "cell_type": "code",
      "execution_count": null,
      "metadata": {
        "colab": {
          "base_uri": "https://localhost:8080/"
        },
        "id": "bCaE_sCh_ZNy",
        "outputId": "ed353442-e3f1-4bd8-993b-8b96576bac5a"
      },
      "outputs": [
        {
          "name": "stdout",
          "output_type": "stream",
          "text": [
            "[[1. 1. 1. 1. 1.]\n",
            " [1. 0. 0. 0. 1.]\n",
            " [1. 0. 0. 0. 1.]\n",
            " [1. 0. 0. 0. 1.]\n",
            " [1. 1. 1. 1. 1.]]\n"
          ]
        }
      ],
      "source": [
        "#number_8\n",
        "import numpy as np\n",
        "\n",
        "size = 5\n",
        "array = np.ones((size, size))\n",
        "array[1:-1, 1:-1] = 0\n",
        "\n",
        "print(array)\n",
        "\n"
      ]
    },
    {
      "cell_type": "code",
      "execution_count": null,
      "metadata": {
        "colab": {
          "base_uri": "https://localhost:8080/"
        },
        "id": "EgcTHlaOAh43",
        "outputId": "f75e1539-7117-489a-d660-972b47289258"
      },
      "outputs": [
        {
          "name": "stdout",
          "output_type": "stream",
          "text": [
            "[[0 1 0 1 0 1 0 1]\n",
            " [1 0 1 0 1 0 1 0]\n",
            " [0 1 0 1 0 1 0 1]\n",
            " [1 0 1 0 1 0 1 0]\n",
            " [0 1 0 1 0 1 0 1]\n",
            " [1 0 1 0 1 0 1 0]\n",
            " [0 1 0 1 0 1 0 1]\n",
            " [1 0 1 0 1 0 1 0]]\n"
          ]
        }
      ],
      "source": [
        "#number_9\n",
        "import numpy as np\n",
        "\n",
        "matrix = np.zeros((8, 8), dtype=int)\n",
        "\n",
        "matrix[1::2, ::2] = 1\n",
        "matrix[::2, 1::2] = 1\n",
        "\n",
        "print(matrix)\n"
      ]
    },
    {
      "cell_type": "markdown",
      "metadata": {
        "id": "6vEEOrFmBsAA"
      },
      "source": [
        "problem 3"
      ]
    },
    {
      "cell_type": "code",
      "execution_count": null,
      "metadata": {
        "colab": {
          "base_uri": "https://localhost:8080/"
        },
        "id": "-Cnr93N2BvTf",
        "outputId": "f4d7c696-edd6-42e9-81b1-9f72994d9156"
      },
      "outputs": [
        {
          "name": "stdout",
          "output_type": "stream",
          "text": [
            "[[ 6  8]\n",
            " [10 13]]\n"
          ]
        }
      ],
      "source": [
        "#question_1\n",
        "\n",
        "import numpy as np\n",
        "x = np.array([[1, 2], [3, 5]])\n",
        "y = np.array([[5, 6], [7, 8]])\n",
        "\n",
        "result = x + y\n",
        "\n",
        "print(result)\n"
      ]
    },
    {
      "cell_type": "code",
      "execution_count": null,
      "metadata": {
        "colab": {
          "base_uri": "https://localhost:8080/"
        },
        "id": "OhpOyv51CNmU",
        "outputId": "423a849e-9b17-4ec7-96cb-9db0ee30f2cc"
      },
      "outputs": [
        {
          "name": "stdout",
          "output_type": "stream",
          "text": [
            "[[-4 -4]\n",
            " [-4 -3]]\n"
          ]
        }
      ],
      "source": [
        "#question_2\n",
        "import numpy as np\n",
        "\n",
        "\n",
        "x = np.array([[1, 2], [3, 5]])\n",
        "y = np.array([[5, 6], [7, 8]])\n",
        "\n",
        "\n",
        "result = x - y\n",
        "\n",
        "print(result)\n"
      ]
    },
    {
      "cell_type": "code",
      "execution_count": null,
      "metadata": {
        "colab": {
          "base_uri": "https://localhost:8080/"
        },
        "id": "dpdTOpawCZIs",
        "outputId": "bd54f013-c1c0-499a-8b61-38c3889ed781"
      },
      "outputs": [
        {
          "name": "stdout",
          "output_type": "stream",
          "text": [
            "[[ 2  4]\n",
            " [ 6 10]]\n"
          ]
        }
      ],
      "source": [
        "#question_3\n",
        "import numpy as np\n",
        "\n",
        "x = np.array([[1, 2], [3, 5]])\n",
        "result = x * 2\n",
        "\n",
        "print(result)\n"
      ]
    },
    {
      "cell_type": "code",
      "execution_count": null,
      "metadata": {
        "colab": {
          "base_uri": "https://localhost:8080/"
        },
        "id": "BV5LHcfzC4rT",
        "outputId": "898dac66-1c88-41a8-afd8-822c0b7f9916"
      },
      "outputs": [
        {
          "name": "stdout",
          "output_type": "stream",
          "text": [
            "[[ 1  4]\n",
            " [ 9 25]]\n"
          ]
        }
      ],
      "source": [
        "#question_4\n",
        "import numpy as np\n",
        "\n",
        "x = np.array([[1, 2], [3, 5]])\n",
        "squared_result = x ** 2\n",
        "\n",
        "print(squared_result)\n"
      ]
    },
    {
      "cell_type": "code",
      "execution_count": null,
      "metadata": {
        "colab": {
          "base_uri": "https://localhost:8080/"
        },
        "id": "yKKjqYFPDEX2",
        "outputId": "c98331fd-fdff-4f76-ccd4-8dd7701cb0fa"
      },
      "outputs": [
        {
          "name": "stdout",
          "output_type": "stream",
          "text": [
            "Dot product of v and w: 219\n",
            "Dot product of x and v: [29 77]\n",
            "Dot product of x and y: [[19 22]\n",
            " [50 58]]\n"
          ]
        }
      ],
      "source": [
        "#question_5\n",
        "import numpy as np\n",
        "\n",
        "\n",
        "x = np.array([[1, 2], [3, 5]])\n",
        "y = np.array([[5, 6], [7, 8]])\n",
        "v = np.array([9, 10])\n",
        "w = np.array([11, 12])\n",
        "\n",
        "dot_vw = np.dot(v, w)\n",
        "dot_xv = np.dot(x, v)\n",
        "dot_xy = np.dot(x, y)\n",
        "\n",
        "\n",
        "print(\"Dot product of v and w:\", dot_vw)\n",
        "print(\"Dot product of x and v:\", dot_xv)\n",
        "print(\"Dot product of x and y:\", dot_xy)\n"
      ]
    },
    {
      "cell_type": "code",
      "execution_count": null,
      "metadata": {
        "colab": {
          "base_uri": "https://localhost:8080/"
        },
        "id": "giRk2ep0Dmn9",
        "outputId": "d2a90861-92bc-4aca-dba5-e557149ac457"
      },
      "outputs": [
        {
          "name": "stdout",
          "output_type": "stream",
          "text": [
            "Concatenate x and y along rows:\n",
            " [[1 2]\n",
            " [3 5]\n",
            " [5 6]\n",
            " [7 8]]\n",
            "Concatenate v and w along columns:\n",
            " [[ 9 11]\n",
            " [10 12]]\n"
          ]
        }
      ],
      "source": [
        "#question_6\n",
        "# Concatenate x and y along rows\n",
        "concat_xy_rows = np.concatenate((x, y), axis=0)\n",
        "\n",
        "\n",
        "concat_vw_columns = np.concatenate((v.reshape(-1, 1), w.reshape(-1, 1)), axis=1)\n",
        "\n",
        "print(\"Concatenate x and y along rows:\\n\", concat_xy_rows)\n",
        "print(\"Concatenate v and w along columns:\\n\", concat_vw_columns)\n"
      ]
    },
    {
      "cell_type": "code",
      "execution_count": null,
      "metadata": {
        "colab": {
          "base_uri": "https://localhost:8080/"
        },
        "id": "aiIH3r-fEU0C",
        "outputId": "b91627fa-ec3d-40b6-ce05-b1365b00ea23"
      },
      "outputs": [
        {
          "name": "stdout",
          "output_type": "stream",
          "text": [
            "Error when concatenating x and v along rows: all the input arrays must have same number of dimensions, but the array at index 0 has 2 dimension(s) and the array at index 1 has 1 dimension(s)\n",
            "Concatenate x and v after reshaping v:\n",
            " [[ 1  2]\n",
            " [ 3  5]\n",
            " [ 9 10]]\n"
          ]
        }
      ],
      "source": [
        "#question_7\n",
        "try:\n",
        "\n",
        "    concat_xv = np.concatenate((x, v), axis=0)  # This will give an error\n",
        "except ValueError as e:\n",
        "    print(\"Error when concatenating x and v along rows:\", e)\n",
        "\n",
        "# Reshape v to match the shape of x and then concatenate along rows\n",
        "v_reshaped = v.reshape(1, -1)\n",
        "concat_xv_correct = np.concatenate((x, v_reshaped), axis=0)\n",
        "print(\"Concatenate x and v after reshaping v:\\n\", concat_xv_correct)\n"
      ]
    },
    {
      "cell_type": "markdown",
      "metadata": {
        "id": "1LNyhecNFAU_"
      },
      "source": [
        "problem 4\n"
      ]
    },
    {
      "cell_type": "code",
      "execution_count": null,
      "metadata": {
        "id": "2vZYnUrAFBui"
      },
      "outputs": [],
      "source": [
        "\n",
        "#given array\n",
        "import numpy as np\n",
        "\n",
        "# Define the matrices A and B\n",
        "A = np.array([[3, 4], [7, 8]])\n",
        "B = np.array([[5, 3], [2, 1]])"
      ]
    },
    {
      "cell_type": "code",
      "execution_count": null,
      "metadata": {
        "colab": {
          "base_uri": "https://localhost:8080/"
        },
        "id": "2Vk_Z_bFGrxm",
        "outputId": "9bb04c8a-c649-4317-99b1-4b905f492619"
      },
      "outputs": [
        {
          "name": "stdout",
          "output_type": "stream",
          "text": [
            "A * A_inv =\n",
            " [[1.00000000e+00 0.00000000e+00]\n",
            " [1.77635684e-15 1.00000000e+00]]\n",
            "Identity matrix I =\n",
            " [[1. 0.]\n",
            " [0. 1.]]\n",
            "Is A * A_inv approximately equal to I? True\n"
          ]
        }
      ],
      "source": [
        "#question_1\n",
        "# Calculate the inverse of A\n",
        "A_inv = np.linalg.inv(A)\n",
        "\n",
        "# Multiply A by A_inv\n",
        "result_1 = np.dot(A, A_inv)\n",
        "\n",
        "# Identity matrix (2x2)\n",
        "I = np.eye(2)\n",
        "\n",
        "print(\"A * A_inv =\\n\", result_1)\n",
        "print(\"Identity matrix I =\\n\", I)\n",
        "\n",
        "# Check if A * A_inv is approximately the identity matrix\n",
        "print(\"Is A * A_inv approximately equal to I?\", np.allclose(result_1, I))\n",
        "\n"
      ]
    },
    {
      "cell_type": "code",
      "execution_count": null,
      "metadata": {
        "colab": {
          "base_uri": "https://localhost:8080/"
        },
        "id": "Mu7PbYwNHBbb",
        "outputId": "5f234726-7f52-4e9f-ca4c-bdcab56b01cf"
      },
      "outputs": [
        {
          "name": "stdout",
          "output_type": "stream",
          "text": [
            "AB =\n",
            " [[23 13]\n",
            " [51 29]]\n",
            "BA =\n",
            " [[36 44]\n",
            " [13 16]]\n",
            "Is AB equal to BA? False\n"
          ]
        }
      ],
      "source": [
        "#question_2\n",
        "# Multiply A and B\n",
        "AB = np.dot(A, B)\n",
        "\n",
        "# Multiply B and A\n",
        "BA = np.dot(B, A)\n",
        "\n",
        "print(\"AB =\\n\", AB)\n",
        "print(\"BA =\\n\", BA)\n",
        "\n",
        "# Check if AB is equal to BA\n",
        "print(\"Is AB equal to BA?\", np.array_equal(AB, BA))\n"
      ]
    },
    {
      "cell_type": "code",
      "execution_count": null,
      "metadata": {
        "colab": {
          "base_uri": "https://localhost:8080/"
        },
        "id": "8Mmf-Y87HBQf",
        "outputId": "477b4487-d3df-43c6-e624-92f3b8449951"
      },
      "outputs": [
        {
          "name": "stdout",
          "output_type": "stream",
          "text": [
            "Transpose of AB =\n",
            " [[23 51]\n",
            " [13 29]]\n",
            "B^T * A^T =\n",
            " [[23 51]\n",
            " [13 29]]\n",
            "Is (AB)^T equal to B^T * A^T? True\n"
          ]
        }
      ],
      "source": [
        "#question_3\n",
        "# Compute the transpose of AB\n",
        "AB_T = np.transpose(np.dot(A, B))\n",
        "\n",
        "# Compute the product of B^T and A^T\n",
        "BT_AT = np.dot(np.transpose(B), np.transpose(A))\n",
        "\n",
        "print(\"Transpose of AB =\\n\", AB_T)\n",
        "print(\"B^T * A^T =\\n\", BT_AT)\n",
        "\n",
        "# Check if (AB)^T is equal to B^T * A^T\n",
        "print(\"Is (AB)^T equal to B^T * A^T?\", np.array_equal(AB_T, BT_AT))\n"
      ]
    },
    {
      "cell_type": "code",
      "execution_count": null,
      "metadata": {
        "colab": {
          "base_uri": "https://localhost:8080/"
        },
        "id": "SKqDP0ARHTSp",
        "outputId": "34c16b85-42df-46f8-fd3e-675c3d3e9023"
      },
      "outputs": [
        {
          "name": "stdout",
          "output_type": "stream",
          "text": [
            "Solution [x, y, z]: [ 2.  1. -2.]\n"
          ]
        }
      ],
      "source": [
        "#Linera equation using inverse methods.\n",
        "import numpy as np\n",
        "\n",
        "# Define the matrix A (coefficients) and B (constants)\n",
        "A = np.array([[2, -3, 1],\n",
        "              [1, -1, 2],\n",
        "              [3, 1, -1]])\n",
        "\n",
        "B = np.array([-1, -3, 9])\n",
        "\n",
        "# Compute the inverse of A\n",
        "A_inv = np.linalg.inv(A)\n",
        "\n",
        "# Solve for X using the inverse method\n",
        "X = np.dot(A_inv, B)\n",
        "\n",
        "# Print the solution\n",
        "print(\"Solution [x, y, z]:\", X)\n"
      ]
    },
    {
      "cell_type": "code",
      "execution_count": null,
      "metadata": {
        "colab": {
          "base_uri": "https://localhost:8080/"
        },
        "id": "4qVXsLCYIJ9X",
        "outputId": "784aebe0-4223-480d-ad98-8e37af47a4f8"
      },
      "outputs": [
        {
          "name": "stdout",
          "output_type": "stream",
          "text": [
            "Time taken for element-wise addition using Python lists: 0.16040 seconds\n",
            "Time taken for element-wise addition using NumPy arrays: 0.00576 seconds\n"
          ]
        }
      ],
      "source": [
        "#4.2 Experiment\n",
        "#number_1\n",
        "import numpy as np\n",
        "import time\n",
        "\n",
        "# Create two Python lists of size 1,000,000\n",
        "list1 = list(range(1_000_000))\n",
        "list2 = list(range(1_000_000))\n",
        "\n",
        "# Measure time for element-wise addition using Python lists\n",
        "start_time_list = time.time()\n",
        "list_result = [list1[i] + list2[i] for i in range(len(list1))]\n",
        "end_time_list = time.time()\n",
        "\n",
        "# Time taken for Python lists\n",
        "list_time = end_time_list - start_time_list\n",
        "print(f\"Time taken for element-wise addition using Python lists: {list_time:.5f} seconds\")\n",
        "\n",
        "# Create two NumPy arrays of size 1,000,000\n",
        "array1 = np.arange(1_000_000)\n",
        "array2 = np.arange(1_000_000)\n",
        "\n",
        "# Measure time for element-wise addition using NumPy arrays\n",
        "start_time_array = time.time()\n",
        "array_result = array1 + array2\n",
        "end_time_array = time.time()\n",
        "\n",
        "# Time taken for NumPy arrays\n",
        "array_time = end_time_array - start_time_array\n",
        "print(f\"Time taken for element-wise addition using NumPy arrays: {array_time:.5f} seconds\")\n"
      ]
    },
    {
      "cell_type": "code",
      "execution_count": null,
      "metadata": {
        "colab": {
          "base_uri": "https://localhost:8080/"
        },
        "id": "UKZf1suWJDoq",
        "outputId": "c606f073-f7e8-4ada-cb9a-b1b0a91a1b85"
      },
      "outputs": [
        {
          "name": "stdout",
          "output_type": "stream",
          "text": [
            "Time taken for element-wise multiplication using Python lists: 0.15384 seconds\n",
            "Time taken for element-wise multiplication using NumPy arrays: 0.00519 seconds\n"
          ]
        }
      ],
      "source": [
        "#number_2\n",
        "import numpy as np\n",
        "import time\n",
        "\n",
        "# Create two Python lists of size 1,000,000\n",
        "list1 = list(range(1_000_000))\n",
        "list2 = list(range(1_000_000))\n",
        "\n",
        "# Measure time for element-wise multiplication using Python lists\n",
        "start_time_list = time.time()\n",
        "list_result = [list1[i] * list2[i] for i in range(len(list1))]\n",
        "end_time_list = time.time()\n",
        "\n",
        "# Time taken for Python lists\n",
        "list_time = end_time_list - start_time_list\n",
        "print(f\"Time taken for element-wise multiplication using Python lists: {list_time:.5f} seconds\")\n",
        "\n",
        "# Create two NumPy arrays of size 1,000,000\n",
        "array1 = np.arange(1_000_000)\n",
        "array2 = np.arange(1_000_000)\n",
        "\n",
        "# Measure time for element-wise multiplication using NumPy arrays\n",
        "start_time_array = time.time()\n",
        "array_result = array1 * array2\n",
        "end_time_array = time.time()\n",
        "\n",
        "# Time taken for NumPy arrays\n",
        "array_time = end_time_array - start_time_array\n",
        "print(f\"Time taken for element-wise multiplication using NumPy arrays: {array_time:.5f} seconds\")\n"
      ]
    },
    {
      "cell_type": "code",
      "execution_count": null,
      "metadata": {
        "colab": {
          "base_uri": "https://localhost:8080/"
        },
        "id": "zXR0OAJcJUsc",
        "outputId": "949077f6-76f6-42a3-e3ab-6a39678f8cb0"
      },
      "outputs": [
        {
          "name": "stdout",
          "output_type": "stream",
          "text": [
            "Time taken for dot product using Python lists: 0.18162 seconds\n",
            "Dot product using Python lists: 333332833333500000\n",
            "Time taken for dot product using NumPy arrays: 0.00165 seconds\n",
            "Dot product using NumPy arrays: 333332833333500000\n"
          ]
        }
      ],
      "source": [
        "#number_3\n",
        "import numpy as np\n",
        "import time\n",
        "\n",
        "# Create two Python lists of size 1,000,000\n",
        "list1 = list(range(1_000_000))\n",
        "list2 = list(range(1_000_000))\n",
        "\n",
        "# Measure time for dot product using Python lists\n",
        "start_time_list = time.time()\n",
        "dot_product_list = sum(list1[i] * list2[i] for i in range(len(list1)))\n",
        "end_time_list = time.time()\n",
        "\n",
        "# Time taken for Python lists\n",
        "list_time = end_time_list - start_time_list\n",
        "print(f\"Time taken for dot product using Python lists: {list_time:.5f} seconds\")\n",
        "print(f\"Dot product using Python lists: {dot_product_list}\")\n",
        "\n",
        "# Create two NumPy arrays of size 1,000,000\n",
        "array1 = np.arange(1_000_000)\n",
        "array2 = np.arange(1_000_000)\n",
        "\n",
        "# Measure time for dot product using NumPy arrays\n",
        "start_time_array = time.time()\n",
        "dot_product_array = np.dot(array1, array2)\n",
        "end_time_array = time.time()\n",
        "\n",
        "# Time taken for NumPy arrays\n",
        "array_time = end_time_array - start_time_array\n",
        "print(f\"Time taken for dot product using NumPy arrays: {array_time:.5f} seconds\")\n",
        "print(f\"Dot product using NumPy arrays: {dot_product_array}\")\n"
      ]
    },
    {
      "cell_type": "code",
      "execution_count": null,
      "metadata": {
        "colab": {
          "background_save": true
        },
        "id": "5rlwXeLoKztZ",
        "outputId": "bfe64161-291e-4923-e6d6-2d9ab64f7129"
      },
      "outputs": [
        {
          "name": "stdout",
          "output_type": "stream",
          "text": [
            "Time taken for matrix multiplication using Python lists: 225.41109 seconds\n",
            "Time taken for matrix multiplication using NumPy arrays: 1.43169 seconds\n"
          ]
        }
      ],
      "source": [
        "#number_4\n",
        "import numpy as np\n",
        "import time\n",
        "\n",
        "# Using Python Lists\n",
        "# Create two 1000x1000 matrices as Python lists\n",
        "matrix1 = [[i * j for j in range(1000)] for i in range(1000)]\n",
        "matrix2 = [[i + j for j in range(1000)] for i in range(1000)]\n",
        "\n",
        "# Measure time for matrix multiplication using Python lists\n",
        "start_time_list = time.time()\n",
        "result_list = [[sum(a * b for a, b in zip(row, col)) for col in zip(*matrix2)] for row in matrix1]\n",
        "end_time_list = time.time()\n",
        "\n",
        "# Time taken for Python lists\n",
        "list_time = end_time_list - start_time_list\n",
        "print(f\"Time taken for matrix multiplication using Python lists: {list_time:.5f} seconds\")\n",
        "\n",
        "# Using NumPy\n",
        "# Create two 1000x1000 matrices as NumPy arrays\n",
        "array1 = np.random.randint(0, 10, (1000, 1000))\n",
        "array2 = np.random.randint(0, 10, (1000, 1000))\n",
        "\n",
        "# Measure time for matrix multiplication using NumPy arrays\n",
        "start_time_array = time.time()\n",
        "result_array = np.dot(array1, array2)\n",
        "end_time_array = time.time()\n",
        "\n",
        "# Time taken for NumPy arrays\n",
        "array_time = end_time_array - start_time_array\n",
        "print(f\"Time taken for matrix multiplication using NumPy arrays: {array_time:.5f} seconds\")\n"
      ]
    }
  ],
  "metadata": {
    "colab": {
      "provenance": []
    },
    "kernelspec": {
      "display_name": "Python 3",
      "name": "python3"
    },
    "language_info": {
      "name": "python"
    }
  },
  "nbformat": 4,
  "nbformat_minor": 0
}